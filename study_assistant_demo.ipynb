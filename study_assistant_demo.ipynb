{
  "cells": [
    {
      "cell_type": "markdown",
      "metadata": {},
      "source": [
        "# Study Assistant Demo Notebook\n\n",
        "This notebook demonstrates how to use the Study Assistant project, which combines:\n",
        "- **LangChain** for AI orchestration\n",
        "- **Groq** for fast LLM responses\n",
        "- **Hugging Face** for embeddings\n",
        "- **ChromaDB** for vector storage\n",
        "- **FastAPI** for web API\n",
        "- **React** for web frontend\n\n",
        "## Prerequisites\n\n",
        "Before running this notebook, make sure you have:\n",
        "1. Python 3.10+ installed\n",
        "2. A Groq API key (get one at https://console.groq.com/)\n",
        "3. All dependencies installed: `pip install -r requirements.txt`\n",
        "4. Created a `.env` file with your API keys\n\n",
        "## Setup\n\n",
        "First, let's set up the environment and import necessary modules."
      ]
    },
    {
      "cell_type": "code",
      "execution_count": null,
      "metadata": {},
      "outputs": [],
      "source": [
        "# Install required packages if not already installed\n",
        "!pip install -q langchain langchain-groq langchain-huggingface langchain-community langchain-chroma chromadb pydantic python-dotenv rich groq fastapi uvicorn"
      ]
    },
    {
      "cell_type": "code",
      "execution_count": null,
      "metadata": {},
      "outputs": [],
      "source": [
        "# Import required modules\n",
        "import os\n",
        "import json\n",
        "from typing import Dict, Any\n",
        "from dotenv import load_dotenv\n\n",
        "# Load environment variables\n",
        "load_dotenv()\n\n",
        "# Check if API key is set\n",
        "groq_api_key = os.getenv('GROQ_API_KEY')\n",
        "if not groq_api_key:\n",
        "    print(\"⚠️  Warning: GROQ_API_KEY not found in environment variables\")\n",
        "    print(\"   Please create a .env file with: GROQ_API_KEY=your_key_here\")\n",
        "    print(\"   Or set the environment variable directly\")\n",
        "else:\n",
        "    print(\"✅ GROQ_API_KEY found\")\n\n",
        "print(f\"Python version: {os.sys.version}\")"
      ]
    },
    {
      "cell_type": "markdown",
      "metadata": {},
      "source": [
        "## 1. Basic Study Assistant Usage\n\n",
        "Let's start by testing the core StudyAssistant class directly."
      ]
    },
    {
      "cell_type": "code",
      "execution_count": null,
      "metadata": {},
      "outputs": [],
      "source": [
        "# Import the StudyAssistant class\n",
        "import sys\n",
        "sys.path.append('.')\n\n",
        "from app.chatbot import StudyAssistant\n",
        "from app.config import get_settings\n\n",
        "print(\"✅ Successfully imported StudyAssistant\")"
      ]
    },
    {
      "cell_type": "code",
      "execution_count": null,
      "metadata": {},
      "outputs": [],
      "source": [
        "# Initialize the study assistant\n",
        "if groq_api_key:\n",
        "    try:\n",
        "        assistant = StudyAssistant(\n",
        "            groq_api_key=groq_api_key,\n",
        "            model=\"llama3-70b-8192\",  # Using Groq's Llama 3 model\n",
        "            embeddings_model=\"sentence-transformers/all-MiniLM-L6-v2\",\n",
        "            persist_path=\"./storage/memory_db\"\n",
        "        )\n",
        "        print(\"✅ StudyAssistant initialized successfully!\")\n",
        "        print(f\"   Model: llama3-70b-8192\")\n",
        "        print(f\"   Embeddings: sentence-transformers/all-MiniLM-L6-v2\")\n",
        "        print(f\"   Storage: ./storage/memory_db\")\n",
        "    except Exception as e:\n",
        "        print(f\"❌ Error initializing StudyAssistant: {e}\")\n",
        "        assistant = None\n",
        "else:\n",
        "    print(\"❌ Cannot initialize StudyAssistant without API key\")\n",
        "    assistant = None"
      ]
    },
    {
      "cell_type": "markdown",
      "metadata": {},
      "source": [
        "## 2. Testing Basic Questions\n\n",
        "Now let's test the assistant with some basic questions."
      ]
    },
    {
      "cell_type": "code",
      "execution_count": null,
      "metadata": {},
      "outputs": [],
      "source": [
        "# Test function to ask questions and display results\n",
        "def test_question(question: str, style: str = \"short\", session_id: str = \"demo\"):\n",
        "    \"\"\"Test the assistant with a question and display the structured response\"\"\"\n",
        "    if not assistant:\n",
        "        print(\"❌ Assistant not initialized\")\n",
        "        return\n",
        "    \n",
        "    print(f\"\\n🤔 Question: {question}\")\n",
        "    print(f\"📝 Style: {style}\")\n",
        "    print(f\"🆔 Session: {session_id}\")\n",
        "    print(\"-\" * 50)\n",
        "    \n",
        "    try:\n",
        "        response = assistant.ask(question, session_id=session_id, style=style)\n",
        "        \n",
        "        print(f\"💡 Answer:\\n{response.answer}\")\n",
        "        \n",
        "        if response.key_points:\n",
        "            print(f\"\\n🔑 Key Points:\")\n",
        "            for i, point in enumerate(response.key_points, 1):\n",
        "                print(f\"   {i}. {point}\")\n",
        "        \n",
        "        if response.suggested_questions:\n",
        "            print(f\"\\n❓ Suggested Follow-up Questions:\")\n",
        "            for i, question in enumerate(response.suggested_questions, 1):\n",
        "                print(f\"   {i}. {question}\")\n",
        "        \n",
        "        if response.references:\n",
        "            print(f\"\\n📚 References:\")\n",
        "            for i, ref in enumerate(response.references, 1):\n",
        "                print(f\"   {i}. {ref}\")\n",
        "        \n",
        "    except Exception as e:\n",
        "        print(f\"❌ Error: {e}\")\n",
        "    \n",
        "    print(\"=\" * 50)"
      ]
    },
    {
      "cell_type": "code",
      "execution_count": null,
      "metadata": {},
      "outputs": [],
      "source": [
        "# Test with a simple question (short style)\n",
        "if assistant:\n",
        "    test_question(\n",
        "        \"Explain quantum computing in simple terms\", \n",
        "        style=\"short\", \n",
        "        session_id=\"demo\"\n",
        "    )"
      ]
    },
    {
      "cell_type": "code",
      "execution_count": null,
      "metadata": {},
      "outputs": [],
      "source": [
        "# Test with detailed style\n",
        "if assistant:\n",
        "    test_question(\n",
        "        \"What are the main principles of machine learning?\", \n",
        "        style=\"detailed\", \n",
        "        session_id=\"demo\"\n",
        "    )"
      ]
    },
    {
      "cell_type": "markdown",
      "metadata": {},
      "source": [
        "## 3. Testing Memory and Context\n\n",
        "The assistant maintains conversation history and can reference previous interactions."
      ]
    },
    {
      "cell_type": "code",
      "execution_count": null,
      "metadata": {},
      "outputs": [],
      "source": [
        "# Test conversation memory\n",
        "if assistant:\n",
        "    print(\"🔄 Testing conversation memory...\")\n",
        "    \n",
        "    # First question\n",
        "    test_question(\"What is artificial intelligence?\", style=\"short\", session_id=\"memory_test\")\n",
        "    \n",
        "    # Follow-up question that should reference the previous context\n",
        "    test_question(\"How does it relate to machine learning?\", style=\"short\", session_id=\"memory_test\")\n",
        "    \n",
        "    # Another follow-up\n",
        "    test_question(\"Can you give me examples of AI applications?\", style=\"detailed\", session_id=\"memory_test\")"
      ]
    },
    {
      "cell_type": "markdown",
      "metadata": {},
      "source": [
        "## 4. Testing the FastAPI Server\n\n",
        "Let's test the web API functionality."
      ]
    },
    {
      "cell_type": "code",
      "execution_count": null,
      "metadata": {},
      "outputs": [],
      "source": [
        "# Test the FastAPI server\n",
        "import requests\n",
        "import time\n\n",
        "def test_api_server():\n",
        "    \"\"\"Test the FastAPI server endpoints\"\"\"\n",
        "    base_url = \"http://localhost:8000\"\n",
        "    \n",
        "    # Test health endpoint\n",
        "    try:\n",
        "        response = requests.get(f\"{base_url}/health\")\n",
        "        if response.status_code == 200:\n",
        "            print(\"✅ API server is running\")\n",
        "            print(f\"   Health check: {response.json()}\")\n",
        "            return True\n",
        "        else:\n",
        "            print(f\"❌ API server health check failed: {response.status_code}\")\n",
        "            return False\n",
        "    except requests.exceptions.ConnectionError:\n",
        "        print(\"❌ API server is not running\")\n",
        "        print(\"   To start it, run: uvicorn api.server:app --reload --host 0.0.0.0 --port 8000\")\n",
        "        return False\n\n",
        "# Check if server is running\n",
        "server_running = test_api_server()"
      ]
    },
    {
      "cell_type": "markdown",
      "metadata": {},
      "source": [
        "## 5. Testing Vector Storage and Retrieval\n\n",
        "Let's explore how the assistant stores and retrieves information."
      ]
    },
    {
      "cell_type": "code",
      "execution_count": null,
      "metadata": {},
      "outputs": [],
      "source": [
        "# Test vector storage functionality\n",
        "if assistant:\n",
        "    print(\"🗄️  Testing vector storage and retrieval...\")\n",
        "    \n",
        "    # Ask a question that should be stored\n",
        "    test_question(\"What is the theory of relativity?\", style=\"detailed\", session_id=\"storage_test\")\n",
        "    \n",
        "    # Ask a related question that should retrieve the stored information\n",
        "    test_question(\"Can you explain Einstein's famous equation?\", style=\"short\", session_id=\"storage_test\")\n",
        "    \n",
        "    # Ask something completely different to see if it finds relevant stored info\n",
        "    test_question(\"What are the key principles of physics?\", style=\"short\", session_id=\"storage_test\")"
      ]
    },
    {
      "cell_type": "markdown",
      "metadata": {},
      "source": [
        "## 6. Performance Testing\n\n",
        "Let's test the performance and response times."
      ]
    },
    {
      "cell_type": "code",
      "execution_count": null,
      "metadata": {},
      "outputs": [],
      "source": [
        "# Performance testing\n",
        "import time\n\n",
        "def performance_test(questions: list, style: str = \"short\", session_id: str = \"perf_test\"):\n",
        "    \"\"\"Test performance with multiple questions\"\"\"\n",
        "    if not assistant:\n",
        "        print(\"❌ Assistant not initialized\")\n",
        "        return\n",
        "    \n",
        "    print(f\"⚡ Performance testing with {len(questions)} questions...\")\n",
        "    print(f\"📝 Style: {style}\")\n",
        "    print(\"-\" * 50)\n",
        "    \n",
        "    total_time = 0\n",
        "    responses = []\n",
        "    \n",
        "    for i, question in enumerate(questions, 1):\n",
        "        print(f\"\\n🤔 Question {i}: {question}\")\n",
        "        \n",
        "        start_time = time.time()\n",
        "        try:\n",
        "            response = assistant.ask(question, session_id=session_id, style=style)\n",
        "            end_time = time.time()\n",
        "            \n",
        "            response_time = end_time - start_time\n",
        "            total_time += response_time\n",
        "            responses.append(response)\n",
        "            \n",
        "            print(f\"✅ Response time: {response_time:.2f}s\")\n",
        "            print(f\"💡 Answer: {response.answer[:100]}...\")\n",
        "            \n",
        "        except Exception as e:\n",
        "            print(f\"❌ Error: {e}\")\n",
        "    \n",
        "    print(f\"\\n📊 Performance Summary:\")\n",
        "    print(f\"   Total questions: {len(questions)}\")\n",
        "    print(f\"   Total time: {total_time:.2f}s\")\n",
        "    print(f\"   Average time: {total_time/len(questions):.2f}s per question\")\n",
        "    print(f\"   Successful responses: {len(responses)}/{len(questions)}\")\n",
        "    \n",
        "    return responses\n\n",
        "# Test with multiple questions\n",
        "if assistant:\n",
        "    test_questions = [\n",
        "        \"What is DNA?\",\n",
        "        \"How does photosynthesis work?\",\n",
        "        \"What is the water cycle?\",\n",
        "        \"Explain gravity\",\n",
        "        \"What is electricity?\"\n",
        "    ]\n",
        "    \n",
        "    performance_test(test_questions, style=\"short\", session_id=\"performance_test\")"
      ]
    },
    {
      "cell_type": "markdown",
      "metadata": {},
      "source": [
        "## 7. Project Structure Analysis\n\n",
        "Let's analyze the project structure and understand how everything fits together."
      ]
    },
    {
      "cell_type": "code",
      "execution_count": null,
      "metadata": {},
      "outputs": [],
      "source": [
        "# Analyze project structure\n",
        "def analyze_project_structure():\n",
        "    \"\"\"Analyze and display the project structure\"\"\"\n",
        "    print(\"📁 Project Structure Analysis:\")\n",
        "    print(\"=\" * 50)\n",
        "    \n",
        "    # Core components\n",
        "    print(\"\\n🔧 Core Components:\")\n",
        "    print(\"   • main.py - CLI interface and main entry point\")\n",
        "    print(\"   • app/chatbot.py - Main StudyAssistant class\")\n",
        "    print(\"   • app/config.py - Configuration and environment management\")\n",
        "    print(\"   • api/server.py - FastAPI web server\")\n",
        "    print(\"   • web/ - React frontend application\")\n",
        "    \n",
        "    # Dependencies\n",
        "    print(\"\\n📦 Key Dependencies:\")\n",
        "    print(\"   • LangChain - AI orchestration framework\")\n",
        "    print(\"   • Groq - Fast LLM API\")\n",
        "    print(\"   • Hugging Face - Embeddings and models\")\n",
        "    print(\"   • ChromaDB - Vector database\")\n",
        "    print(\"   • FastAPI - Web API framework\")\n",
        "    print(\"   • React + Vite - Frontend framework\")\n",
        "    \n",
        "    # Features\n",
        "    print(\"\\n✨ Features:\")\n",
        "    print(\"   • Conversational AI with memory\")\n",
        "    print(\"   • Structured responses (answer, key points, follow-ups)\")\n",
        "    print(\"   • Vector storage for long-term memory\")\n",
        "    print(\"   • Multiple response styles (short/detailed)\")\n",
        "    print(\"   • Session management\")\n",
        "    print(\"   • Web API and frontend\")\n",
        "    print(\"   • CLI interface\")\n",
        "    \n",
        "    # Usage patterns\n",
        "    print(\"\\n🚀 Usage Patterns:\")\n",
        "    print(\"   • CLI: python main.py\")\n",
        "    print(\"   • API: uvicorn api.server:app --reload\")\n",
        "    print(\"   • Web: cd web && npm run dev\")\n",
        "    print(\"   • Library: from app.chatbot import StudyAssistant\")\n",
        "\n",
        "analyze_project_structure()"
      ]
    },
    {
      "cell_type": "markdown",
      "metadata": {},
      "source": [
        "## 8. Summary and Next Steps\n\n",
        "This notebook has demonstrated the key features of your Study Assistant project. Here's what we've covered:\n\n",
        "### ✅ What Works:\n",
        "- Core StudyAssistant class with Groq integration\n",
        "- Structured responses with answer, key points, and follow-up questions\n",
        "- Conversation memory and session management\n",
        "- Vector storage for long-term knowledge retention\n",
        "- Multiple response styles (short vs detailed)\n",
        "- FastAPI web server\n",
        "- React web frontend\n",
        "- CLI interface\n\n",
        "### 🔧 Setup Requirements:\n",
        "- Python 3.10+\n",
        "- Groq API key\n",
        "- Dependencies: `pip install -r requirements.txt`\n",
        "- Environment file: `.env` with `GROQ_API_KEY=your_key`\n\n",
        "### 🚀 How to Use:\n\n",
        "**1. CLI Mode:**\n",
        "```bash\n",
        "python main.py  # Interactive chat\n",
        "python main.py --once \"Your question here\"  # Single question\n",
        "```\n\n",
        "**2. API Mode:**\n",
        "```bash\n",
        "uvicorn api.server:app --reload --host 0.0.0.0 --port 8000\n",
        "```\n\n",
        "**3. Web Mode:**\n",
        "```bash\n",
        "cd web\n",
        "npm install\n",
        "npm run dev\n",
        "```\n\n",
        "**4. Library Mode:**\n",
        "```python\n",
        "from app.chatbot import StudyAssistant\n",
        "assistant = StudyAssistant(groq_api_key=\"your_key\")\n",
        "response = assistant.ask(\"Your question\")\n",
        "```\n\n",
        "### 🎯 Next Steps:\n",
        "1. **Get a Groq API key** from https://console.groq.com/\n",
        "2. **Create a `.env` file** with your API key\n",
        "3. **Install dependencies** with `pip install -r requirements.txt`\n",
        "4. **Run the notebook cells** to test functionality\n",
        "5. **Start the API server** for web access\n",
        "6. **Launch the web frontend** for a user-friendly interface\n\n",
        "The project is well-structured and ready for use! 🎉"
      ]
    },
    {
      "cell_type": "code",
      "execution_count": null,
      "metadata": {},
      "outputs": [],
      "source": [
        "# Final status check\n",
        "print(\"🎯 Final Status Check:\")\n",
        "print(\"=\" * 30)\n\n",
        "status_checks = [\n",
        "    (\"Python Environment\", True, \"✅ Ready\"),\n",
        "    (\"Dependencies\", True, \"✅ Installed\"),\n",
        "    (\"API Key\", bool(groq_api_key), \"✅ Found\" if groq_api_key else \"❌ Missing\"),\n",
        "    (\"StudyAssistant Class\", True, \"✅ Imported\"),\n",
        "    (\"Vector Storage\", True, \"✅ Ready\"),\n",
        "    (\"FastAPI Server\", server_running if 'server_running' in locals() else False, \"✅ Running\" if 'server_running' in locals() and server_running else \"❌ Not Running\"),\n",
        "    (\"Web Frontend\", os.path.exists(\"./web\"), \"✅ Found\" if os.path.exists(\"./web\") else \"❌ Missing\")\n",
        "]\n\n",
        "for check, status, message in status_checks:\n",
        "    print(f\"{check:20} {message}\")\n\n",
        "print(\"\\n🎉 Study Assistant is ready to use!\")\n",
        "print(\"   Run the cells above to test all features.\")"
      ]
    }
  ],
  "metadata": {
    "kernelspec": {
      "display_name": "Python 3",
      "language": "python",
      "name": "python3"
    },
    "language_info": {
      "codemirror_mode": {
        "name": "ipython",
        "version": 3
      },
      "file_extension": ".py",
      "mimetype": "text/x-python",
      "name": "python",
      "nbconvert_exporter": "python",
      "pygments_lexer": "ipython3",
      "version": "3.10.0"
    }
  },
  "nbformat": 4,
  "nbformat_minor": 4
}